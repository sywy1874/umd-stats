{
 "cells": [
  {
   "cell_type": "code",
   "execution_count": 1,
   "id": "9592f24e",
   "metadata": {
    "scrolled": true
   },
   "outputs": [
    {
     "name": "stdout",
     "output_type": "stream",
     "text": [
      "Requirement already satisfied: planetterp in c:\\users\\syamang\\appdata\\local\\anaconda3\\lib\\site-packages (1.0.0)\n",
      "Requirement already satisfied: requests in c:\\users\\syamang\\appdata\\roaming\\python\\python310\\site-packages (from planetterp) (2.28.2)\n",
      "Requirement already satisfied: charset-normalizer<4,>=2 in c:\\users\\syamang\\appdata\\local\\anaconda3\\lib\\site-packages (from requests->planetterp) (2.0.4)\n",
      "Requirement already satisfied: idna<4,>=2.5 in c:\\users\\syamang\\appdata\\local\\anaconda3\\lib\\site-packages (from requests->planetterp) (3.4)\n",
      "Requirement already satisfied: certifi>=2017.4.17 in c:\\users\\syamang\\appdata\\local\\anaconda3\\lib\\site-packages (from requests->planetterp) (2022.12.7)\n",
      "Requirement already satisfied: urllib3<1.27,>=1.21.1 in c:\\users\\syamang\\appdata\\local\\anaconda3\\lib\\site-packages (from requests->planetterp) (1.26.14)\n"
     ]
    },
    {
     "name": "stderr",
     "output_type": "stream",
     "text": [
      "\n",
      "[notice] A new release of pip is available: 23.0.1 -> 23.1.2\n",
      "[notice] To update, run: python.exe -m pip install --upgrade pip\n"
     ]
    }
   ],
   "source": [
    "!pip3 install planetterp"
   ]
  },
  {
   "cell_type": "code",
   "execution_count": 24,
   "id": "89af6a90",
   "metadata": {},
   "outputs": [
    {
     "name": "stdout",
     "output_type": "stream",
     "text": [
      "MATH240 Average GPA (m = 8148) 2.6840083456062835\n",
      "MATH241 Average GPA (n = 15924) 2.8313049485054007\n",
      "-9.772563934447605\n",
      "p=8.511300595244062e-23\n"
     ]
    }
   ],
   "source": [
    "#Is course 1 harder than course 2?\n",
    "#u1, m, X will denote Course 1\n",
    "#u2, n, Y will denote Course 2\n",
    "#We would like to test the null hypotheis u1 - u2 = 0\n",
    "#Against the alternative hypothesis u1 - u2 < 0\n",
    "import planetterp as pt\n",
    "from scipy import stats\n",
    "import seaborn as sns\n",
    "\n",
    "def test_two_courses(id1, id2, incl_w=True):\n",
    "    letter_gr = {'A+': 4.0, 'A': 4.0, 'A-': 3.7, 'B+': 3.3, 'B': 3.0, 'B-': 2.7, 'C+': 2.3, 'C': 2.0, 'C-': 1.7, \n",
    "             'D+': 1.3, 'D': 1.0, 'D-': 0.7, 'F': 0.0}\n",
    "    \n",
    "    if incl_w:\n",
    "        letter_gr['W'] = 0.0\n",
    "\n",
    "    c1 = pt.grades(course=id1)\n",
    "    c2 = pt.grades(course=id2)\n",
    "\n",
    "    gr1 = {}\n",
    "    gr2 = {}\n",
    "\n",
    "    for l in letter_gr.keys():\n",
    "        gr1[l] = sum([sec[l] for sec in c1])\n",
    "        gr2[l] = sum([sec[l] for sec in c2])\n",
    "\n",
    "\n",
    "    m = sum(gr1.values())\n",
    "    n = sum(gr2.values())\n",
    "\n",
    "    #Calculating average GPAs\n",
    "    xbar = sum([letter_gr[l] * gr1[l] for l in letter_gr.keys()]) / m\n",
    "    ybar = sum([letter_gr[l] * gr2[l] for l in letter_gr.keys()]) / n\n",
    "\n",
    "    print(f\"{id1} Average GPA (m = {m})\", xbar)\n",
    "    print(f\"{id2} Average GPA (n = {n})\", ybar)\n",
    "\n",
    "    #Standard deviation calculations\n",
    "    s1 = (sum([sum(sd) for sd in [[(xbar - letter_gr[l]) ** 2 for i in range(gr1[l])] for l in letter_gr.keys()]]) / (m - 1)) ** 0.5\n",
    "    s2 = (sum([sum(sd) for sd in [[(ybar - letter_gr[l]) ** 2 for i in range(gr2[l])] for l in letter_gr.keys()]]) / (n - 1)) ** 0.5\n",
    "\n",
    "    se1 = s1 / (m**0.5)\n",
    "    se2 = s2 / (n**0.5)\n",
    "    \n",
    "    v = ((se1**2 + se2**2)**2) / ((se1**4 / (m - 1)) + (se2**4 / (n - 1)))\n",
    "    \n",
    "    tval = (xbar - ybar) / (se1**2 + se2**2)**0.5\n",
    "    print(tval)\n",
    "    p = stats.t.cdf(tval, v)\n",
    "    print(f\"p={p}\")\n",
    "    \n",
    "test_two_courses('MATH240', 'MATH241', incl_w=False)\n"
   ]
  },
  {
   "cell_type": "code",
   "execution_count": 22,
   "id": "ca29fac0",
   "metadata": {},
   "outputs": [
    {
     "name": "stdout",
     "output_type": "stream",
     "text": [
      "2.9882245330057597 0.08388545094645997\n",
      "1 23086\n"
     ]
    }
   ],
   "source": [
    "#Perform an ANOVA for a given list of course IDs\n",
    "def course_anova(courseid_lst, incl_w=True):\n",
    "    #Format into a dictionary keyed by course_id, storing frequency of grades\n",
    "    letter_gr = {'A+': 4.0, 'A': 4.0, 'A-': 3.7, 'B+': 3.3, 'B': 3.0, 'B-': 2.7, 'C+': 2.3, 'C': 2.0, 'C-': 1.7, \n",
    "             'D+': 1.3, 'D': 1.0, 'D-': 0.7, 'F': 0.0}\n",
    "    \n",
    "    if incl_w:\n",
    "        letter_gr['W'] = 0.0\n",
    "        \n",
    "    courses = [pt.grades(c) for c in courseid_lst]\n",
    "    grds = {}\n",
    "    \n",
    "    for i, c in enumerate(courses):\n",
    "        cid = courseid_lst[i]\n",
    "        grds[cid] = []\n",
    "        for l in letter_gr.keys():\n",
    "            j = sum([sec[l] for sec in c])\n",
    "            grds[cid] += [letter_gr[l]] * j\n",
    "            \n",
    "    data = list(grds.values())\n",
    "    \n",
    "    I = len(data)\n",
    "    grand_sum = sum([sum(crs_grades) for crs_grades in data])\n",
    "    n = sum([len(crs) for crs in data])\n",
    "    \n",
    "    v1 = I - 1\n",
    "    v2 = n - I\n",
    "    \n",
    "    coeff = (grand_sum**2) / n\n",
    "    \n",
    "    sst = sum([sum([g ** 2 for g in crs]) for crs in data]) - coeff\n",
    "    sstr = sum([(sum(crs) ** 2) / len(crs) for crs in data]) - coeff\n",
    "    sse = sst - sstr\n",
    "    \n",
    "    mstr = sstr / v1\n",
    "    mse = sse / v2\n",
    "    \n",
    "    fval = mstr / mse\n",
    "    p = stats.f.sf(fval, v1, v2)\n",
    "    print(fval, p)\n",
    "    print(v1, v2)\n",
    "    \n",
    "    \n",
    "course_anova(['CMSC131', 'CMSC132'], incl_w=False)"
   ]
  },
  {
   "cell_type": "code",
   "execution_count": null,
   "id": "249a9054",
   "metadata": {},
   "outputs": [],
   "source": []
  }
 ],
 "metadata": {
  "kernelspec": {
   "display_name": "Python 3 (ipykernel)",
   "language": "python",
   "name": "python3"
  },
  "language_info": {
   "codemirror_mode": {
    "name": "ipython",
    "version": 3
   },
   "file_extension": ".py",
   "mimetype": "text/x-python",
   "name": "python",
   "nbconvert_exporter": "python",
   "pygments_lexer": "ipython3",
   "version": "3.10.9"
  }
 },
 "nbformat": 4,
 "nbformat_minor": 5
}
